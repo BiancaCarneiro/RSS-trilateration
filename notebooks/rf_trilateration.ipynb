{
 "cells": [
  {
   "cell_type": "markdown",
   "metadata": {},
   "source": [
    "### Carregamento dos dados"
   ]
  },
  {
   "cell_type": "code",
   "execution_count": 1,
   "metadata": {},
   "outputs": [],
   "source": [
    "import pandas as pd\n",
    "\n",
    "# TRAIN_DATASET_PATH = \"../datasets/x_std_train.csv\"\n",
    "TRAIN_DATASET_PATH = \"../datasets/meds_train_alunos.csv\"\n",
    "TEST_DATASET_PATH = \"../datasets/meds_test_alunos.csv\"\n",
    "BTS_DATASET = \"../datasets/Bts.csv\""
   ]
  },
  {
   "cell_type": "code",
   "execution_count": 2,
   "metadata": {},
   "outputs": [
    {
     "data": {
      "text/html": [
       "<div>\n",
       "<style scoped>\n",
       "    .dataframe tbody tr th:only-of-type {\n",
       "        vertical-align: middle;\n",
       "    }\n",
       "\n",
       "    .dataframe tbody tr th {\n",
       "        vertical-align: top;\n",
       "    }\n",
       "\n",
       "    .dataframe thead th {\n",
       "        text-align: right;\n",
       "    }\n",
       "</style>\n",
       "<table border=\"1\" class=\"dataframe\">\n",
       "  <thead>\n",
       "    <tr style=\"text-align: right;\">\n",
       "      <th></th>\n",
       "      <th>ponto_id</th>\n",
       "      <th>rssi_1_1</th>\n",
       "      <th>rssi_1_2</th>\n",
       "      <th>rssi_1_3</th>\n",
       "      <th>rssi_2_1</th>\n",
       "      <th>rssi_2_2</th>\n",
       "      <th>rssi_2_3</th>\n",
       "      <th>rssi_3_1</th>\n",
       "      <th>rssi_3_2</th>\n",
       "      <th>rssi_3_3</th>\n",
       "      <th>delay_1</th>\n",
       "      <th>delay_2</th>\n",
       "      <th>delay_3</th>\n",
       "      <th>lat</th>\n",
       "      <th>lon</th>\n",
       "      <th>indoor</th>\n",
       "    </tr>\n",
       "  </thead>\n",
       "  <tbody>\n",
       "    <tr>\n",
       "      <th>0</th>\n",
       "      <td>6604</td>\n",
       "      <td>-103.705000</td>\n",
       "      <td>-110.425000</td>\n",
       "      <td>-107.381667</td>\n",
       "      <td>-110.330000</td>\n",
       "      <td>-108.345000</td>\n",
       "      <td>-106.590000</td>\n",
       "      <td>-107.153333</td>\n",
       "      <td>-102.120000</td>\n",
       "      <td>-115.00</td>\n",
       "      <td>5.0</td>\n",
       "      <td>3.0</td>\n",
       "      <td>2.0</td>\n",
       "      <td>-8.055786</td>\n",
       "      <td>-34.951505</td>\n",
       "      <td>True</td>\n",
       "    </tr>\n",
       "    <tr>\n",
       "      <th>1</th>\n",
       "      <td>5515</td>\n",
       "      <td>-105.225000</td>\n",
       "      <td>-115.000000</td>\n",
       "      <td>-105.210000</td>\n",
       "      <td>-115.000000</td>\n",
       "      <td>-105.835000</td>\n",
       "      <td>-115.000000</td>\n",
       "      <td>-88.470000</td>\n",
       "      <td>-94.024286</td>\n",
       "      <td>-108.12</td>\n",
       "      <td>5.0</td>\n",
       "      <td>3.0</td>\n",
       "      <td>2.0</td>\n",
       "      <td>-8.055784</td>\n",
       "      <td>-34.951608</td>\n",
       "      <td>True</td>\n",
       "    </tr>\n",
       "    <tr>\n",
       "      <th>2</th>\n",
       "      <td>5049</td>\n",
       "      <td>-102.610000</td>\n",
       "      <td>-115.000000</td>\n",
       "      <td>-101.380000</td>\n",
       "      <td>-115.000000</td>\n",
       "      <td>-104.295000</td>\n",
       "      <td>-97.360000</td>\n",
       "      <td>-96.980000</td>\n",
       "      <td>-99.572500</td>\n",
       "      <td>-115.00</td>\n",
       "      <td>5.0</td>\n",
       "      <td>3.0</td>\n",
       "      <td>2.0</td>\n",
       "      <td>-8.055506</td>\n",
       "      <td>-34.951693</td>\n",
       "      <td>True</td>\n",
       "    </tr>\n",
       "    <tr>\n",
       "      <th>3</th>\n",
       "      <td>8737</td>\n",
       "      <td>-89.140000</td>\n",
       "      <td>-97.251429</td>\n",
       "      <td>-86.642857</td>\n",
       "      <td>-96.036667</td>\n",
       "      <td>-96.592500</td>\n",
       "      <td>-92.460000</td>\n",
       "      <td>-86.813333</td>\n",
       "      <td>-102.688000</td>\n",
       "      <td>-87.27</td>\n",
       "      <td>4.0</td>\n",
       "      <td>7.0</td>\n",
       "      <td>2.0</td>\n",
       "      <td>-8.050390</td>\n",
       "      <td>-34.959630</td>\n",
       "      <td>False</td>\n",
       "    </tr>\n",
       "    <tr>\n",
       "      <th>4</th>\n",
       "      <td>1203</td>\n",
       "      <td>-109.088333</td>\n",
       "      <td>-107.200000</td>\n",
       "      <td>-107.010000</td>\n",
       "      <td>-108.430000</td>\n",
       "      <td>-104.845714</td>\n",
       "      <td>-101.435714</td>\n",
       "      <td>-103.065000</td>\n",
       "      <td>-102.110000</td>\n",
       "      <td>-115.00</td>\n",
       "      <td>5.0</td>\n",
       "      <td>3.0</td>\n",
       "      <td>2.0</td>\n",
       "      <td>-8.055380</td>\n",
       "      <td>-34.951736</td>\n",
       "      <td>True</td>\n",
       "    </tr>\n",
       "  </tbody>\n",
       "</table>\n",
       "</div>"
      ],
      "text/plain": [
       "   ponto_id    rssi_1_1    rssi_1_2    rssi_1_3    rssi_2_1    rssi_2_2  \\\n",
       "0      6604 -103.705000 -110.425000 -107.381667 -110.330000 -108.345000   \n",
       "1      5515 -105.225000 -115.000000 -105.210000 -115.000000 -105.835000   \n",
       "2      5049 -102.610000 -115.000000 -101.380000 -115.000000 -104.295000   \n",
       "3      8737  -89.140000  -97.251429  -86.642857  -96.036667  -96.592500   \n",
       "4      1203 -109.088333 -107.200000 -107.010000 -108.430000 -104.845714   \n",
       "\n",
       "     rssi_2_3    rssi_3_1    rssi_3_2  rssi_3_3  delay_1  delay_2  delay_3  \\\n",
       "0 -106.590000 -107.153333 -102.120000   -115.00      5.0      3.0      2.0   \n",
       "1 -115.000000  -88.470000  -94.024286   -108.12      5.0      3.0      2.0   \n",
       "2  -97.360000  -96.980000  -99.572500   -115.00      5.0      3.0      2.0   \n",
       "3  -92.460000  -86.813333 -102.688000    -87.27      4.0      7.0      2.0   \n",
       "4 -101.435714 -103.065000 -102.110000   -115.00      5.0      3.0      2.0   \n",
       "\n",
       "        lat        lon  indoor  \n",
       "0 -8.055786 -34.951505    True  \n",
       "1 -8.055784 -34.951608    True  \n",
       "2 -8.055506 -34.951693    True  \n",
       "3 -8.050390 -34.959630   False  \n",
       "4 -8.055380 -34.951736    True  "
      ]
     },
     "execution_count": 2,
     "metadata": {},
     "output_type": "execute_result"
    }
   ],
   "source": [
    "df_train = pd.read_csv(TRAIN_DATASET_PATH)\n",
    "df_train.head()"
   ]
  },
  {
   "cell_type": "code",
   "execution_count": 3,
   "metadata": {},
   "outputs": [
    {
     "name": "stdout",
     "output_type": "stream",
     "text": [
      "<class 'pandas.core.frame.DataFrame'>\n",
      "RangeIndex: 6775 entries, 0 to 6774\n",
      "Data columns (total 16 columns):\n",
      " #   Column    Non-Null Count  Dtype  \n",
      "---  ------    --------------  -----  \n",
      " 0   ponto_id  6775 non-null   int64  \n",
      " 1   rssi_1_1  6775 non-null   float64\n",
      " 2   rssi_1_2  6775 non-null   float64\n",
      " 3   rssi_1_3  6775 non-null   float64\n",
      " 4   rssi_2_1  6775 non-null   float64\n",
      " 5   rssi_2_2  6775 non-null   float64\n",
      " 6   rssi_2_3  6775 non-null   float64\n",
      " 7   rssi_3_1  6775 non-null   float64\n",
      " 8   rssi_3_2  6775 non-null   float64\n",
      " 9   rssi_3_3  6775 non-null   float64\n",
      " 10  delay_1   6775 non-null   float64\n",
      " 11  delay_2   6775 non-null   float64\n",
      " 12  delay_3   6775 non-null   float64\n",
      " 13  lat       6775 non-null   float64\n",
      " 14  lon       6775 non-null   float64\n",
      " 15  indoor    6775 non-null   bool   \n",
      "dtypes: bool(1), float64(14), int64(1)\n",
      "memory usage: 800.7 KB\n"
     ]
    }
   ],
   "source": [
    "df_train.info()"
   ]
  },
  {
   "cell_type": "markdown",
   "metadata": {},
   "source": [
    "### Trilateração com Random Forest"
   ]
  },
  {
   "cell_type": "code",
   "execution_count": 4,
   "metadata": {},
   "outputs": [],
   "source": [
    "# Imports\n",
    "import pandas as pd\n",
    "import numpy as np\n",
    "from sklearn.ensemble import RandomForestRegressor\n",
    "from sklearn.model_selection import GridSearchCV, train_test_split\n",
    "import matplotlib.pyplot as plt\n",
    "\n",
    "# Definições iniciais mockadas\n",
    "# Setando as coordenadas (latitude e longitude) das 3 estações\n",
    "bts_coords = [\n",
    "    [-8.04342, -34.952, 1],  # BTS 1\n",
    "    [-8.05289, -34.944672, 1],  # BTS 2\n",
    "    [-8.05532, -34.957900, 1]  # BTS 3\n",
    "]\n",
    "\n",
    "# Adiciona no nosso df de treino \n",
    "# as distancias euclidianas de cada ponto (lat, lon) até as BTSs\n",
    "def dist(df, bts_coords):\n",
    "    for index, (lat, lon, _) in enumerate(bts_coords, start=1):\n",
    "        col_name = f'bts_{index}_dist'\n",
    "        df[col_name] = np.sqrt((df['lat'] - lat)**2 + (df['lon'] - lon)**2)\n",
    "    return df\n",
    "\n",
    "# Alterando o df_train para conformar de acordo com dist\n",
    "train = dist(df_train, bts_coords)\n",
    "\n",
    "\n",
    "def rf_regression_and_return_best_model(df, bts_id):\n",
    "    X = df[['rssi_1_{}'.format(bts_id), f'delay_{bts_id}']]\n",
    "    y = df[f'bts_{bts_id}_dist']\n",
    "\n",
    "    # dividindo o conjunto de dados em treino e teste\n",
    "    X_train, X_test, y_train, y_test = train_test_split(X, y, test_size=0.2, random_state=42)\n",
    "\n",
    "    search_param = {\n",
    "        \"n_estimators\": [50, 100, 150],\n",
    "        \"warm_start\": [True, False],\n",
    "        \"criterion\": [\"squared_error\", \"absolute_error\", \"friedman_mse\", \"poisson\"]\n",
    "    }\n",
    "    \n",
    "    rf = RandomForestRegressor(random_state=42, n_jobs=-1)\n",
    "    \n",
    "    grid_searcher = GridSearchCV(rf, search_param, n_jobs=-1, error_score='raise', cv=5, scoring=\"neg_mean_squared_error\")\n",
    "    rf_best = grid_searcher.fit(X_train, y_train)\n",
    "    print(f\"Melhores parâmetros: {rf_best.best_params_}\")\n",
    "    print(f\"Melhor mean squared error: {rf_best.best_score_}\")\n",
    "    # Plotting\n",
    "    y_pred = rf_best.predict(X_test)\n",
    "    plt.scatter(y_test, y_pred, alpha=0.6)\n",
    "    plt.xlabel('Valores Reais')\n",
    "    plt.ylabel('Previsões')\n",
    "    plt.title(f'Previsões vs. Valores Reais para BTS {bts_id}')\n",
    "    plt.plot([y_test.min(), y_test.max()], [y_test.min(), y_test.max()], 'k--', lw=2)\n",
    "    plt.show()\n",
    "\n",
    "    return rf_best\n"
   ]
  },
  {
   "cell_type": "code",
   "execution_count": 5,
   "metadata": {},
   "outputs": [
    {
     "name": "stdout",
     "output_type": "stream",
     "text": [
      "Melhores parâmetros: {'criterion': 'absolute_error', 'n_estimators': 50, 'warm_start': True}\n",
      "Melhor mean squared error: -9.000641041090292e-08\n"
     ]
    },
    {
     "data": {
      "image/png": "[encoded data removed]",
      "text/plain": [
       "<Figure size 432x288 with 1 Axes>"
      ]
     },
     "metadata": {
      "needs_background": "light"
     },
     "output_type": "display_data"
    },
    {
     "name": "stdout",
     "output_type": "stream",
     "text": [
      "Melhores parâmetros: {'criterion': 'absolute_error', 'n_estimators': 100, 'warm_start': True}\n",
      "Melhor mean squared error: -7.272361386054554e-08\n"
     ]
    },
    {
     "data": {
      "image/png": "[encoded data removed]",
      "text/plain": [
       "<Figure size 432x288 with 1 Axes>"
      ]
     },
     "metadata": {
      "needs_background": "light"
     },
     "output_type": "display_data"
    },
    {
     "name": "stdout",
     "output_type": "stream",
     "text": [
      "Melhores parâmetros: {'criterion': 'absolute_error', 'n_estimators': 150, 'warm_start': True}\n",
      "Melhor mean squared error: -1.0551109065008597e-07\n"
     ]
    },
    {
     "data": {
      "image/png": "[encoded data removed]",
      "text/plain": [
       "<Figure size 432x288 with 1 Axes>"
      ]
     },
     "metadata": {
      "needs_background": "light"
     },
     "output_type": "display_data"
    }
   ],
   "source": [
    "# Exemplo de uso para as BTSs 1, 2 e 3 mockadas\n",
    "# Armazenando os melhores modelos\n",
    "models = []\n",
    "for bts_id in range(1, 4):\n",
    "    model = rf_regression_and_return_best_model(train, bts_id)\n",
    "    models.append(model)"
   ]
  },
  {
   "cell_type": "markdown",
   "metadata": {},
   "source": [
    "#### Função Trilateração"
   ]
  },
  {
   "cell_type": "code",
   "execution_count": 6,
   "metadata": {},
   "outputs": [],
   "source": [
    "def trilateration(bts1_pos, bts2_pos, bts3_pos, dist_to_bts1, dist_to_bts2, dist_to_bts3):\n",
    "    # Ajusta as posições das BTSs para o sistema de coordenadas centrado na BTS1\n",
    "    p2 = np.array(bts2_pos) - np.array(bts1_pos)\n",
    "    p3 = np.array(bts3_pos) - np.array(bts1_pos)\n",
    "\n",
    "    # Calcula os vetores e suas normalizações - formando nossa base ortonormal\n",
    "    # Cada vetor é unitário e os 3 são mutuamente perpendiculares\n",
    "    Xn = p2 / np.linalg.norm(p2)\n",
    "    Zn = np.cross(p2, p3) / np.linalg.norm(np.cross(p2, p3))\n",
    "    Yn = np.cross(Xn, Zn)\n",
    "\n",
    "    # Projeções no sistema de coordenadas local\n",
    "    i = np.dot(Xn, p3)\n",
    "    d = np.linalg.norm(p2)\n",
    "    j = np.dot(Yn, p3)\n",
    "\n",
    "    # Cálculo de X\n",
    "    X = (pow(dist_to_bts1, 2) - pow(dist_to_bts2, 2) + pow(d, 2)) / (2 * d)\n",
    "    # Cálculo de Y\n",
    "    Y = ((pow(dist_to_bts1, 2) - pow(dist_to_bts3, 2) + pow(i, 2) + pow(j, 2)) / (2 * j)) - ((i / j) * X)\n",
    "    # Cálculo de Z\n",
    "    Z = np.sqrt(max(0, pow(dist_to_bts1, 2) - pow(X, 2) - pow(Y, 2)))\n",
    "\n",
    "    # Transforma de volta para o sistema de coordenadas global, considerando a posição da BTS1 como referência\n",
    "    estimated_pos = np.array(bts1_pos) + X * Xn + Y * Yn + Z * Zn\n",
    "    return estimated_pos\n"
   ]
  },
  {
   "cell_type": "code",
   "execution_count": 7,
   "metadata": {},
   "outputs": [],
   "source": [
    "import numpy as np\n",
    "\n",
    "def predict_distance(model, rssi, delay):\n",
    "    return model.predict(np.array([[rssi, delay]]))[0]\n",
    "\n",
    "def prev_loc(rssi_values, delay_values, models, bts_positions):\n",
    "    predicted_distances = []\n",
    "    for i, model in enumerate(models):\n",
    "        # features = np.array([[rssi_values[i], delay_values[i]]]) \n",
    "        features_df = pd.DataFrame(data=[[rssi_values[i], delay_values[i]]], columns=['rssi_1_{}'.format(i+1), 'delay_{}'.format(i+1)])\n",
    "\n",
    "\n",
    "        predicted_distance = model.predict(features_df)[0]\n",
    "        predicted_distances.append(predicted_distance)\n",
    "    return trilateration(bts_positions[0], bts_positions[1], bts_positions[2], *predicted_distances)"
   ]
  },
  {
   "cell_type": "code",
   "execution_count": 8,
   "metadata": {},
   "outputs": [],
   "source": [
    "# Separando características (X) e alvos (y)\n",
    "X = train.iloc[:, :-6]  # Seleciona todas as colunas exceto as seis últimas (lat, lon, indoor, dist_1, dist_2, dist_3)\n",
    "y = train.iloc[:, -6:-3]  # Seleciona apenas as colunas 'lat' e 'lon' como as colunas que precisamos prever \n",
    "\n",
    "# # Dividindo os dados em conjuntos de treino e teste\n",
    "X_train, X_test, y_train, y_test = train_test_split(X, y, test_size=0.2, random_state=42)\n",
    "\n",
    "# # Inicializando listas para previsões e valores verdadeiros\n",
    "lat_pred = []\n",
    "lon_pred = []\n",
    "\n",
    "lat_true = y_test['lat'].values  \n",
    "lon_true = y_test['lon'].values  \n",
    "\n",
    "for index, row in X_test.iterrows():\n",
    "    rssi_values = [row[f'rssi_{i}_2'] for i in range(1, 4)]  \n",
    "    delay_values = [row['delay_1'], row['delay_2'], row['delay_3']]  \n",
    "\n",
    "    pred = prev_loc(rssi_values, delay_values, models, bts_coords) \n",
    "\n",
    "    lat_pred.append(pred[0])\n",
    "    lon_pred.append(pred[1])"
   ]
  },
  {
   "cell_type": "code",
   "execution_count": 10,
   "metadata": {},
   "outputs": [
    {
     "data": {
      "text/html": [
       "<div>\n",
       "<style scoped>\n",
       "    .dataframe tbody tr th:only-of-type {\n",
       "        vertical-align: middle;\n",
       "    }\n",
       "\n",
       "    .dataframe tbody tr th {\n",
       "        vertical-align: top;\n",
       "    }\n",
       "\n",
       "    .dataframe thead th {\n",
       "        text-align: right;\n",
       "    }\n",
       "</style>\n",
       "<table border=\"1\" class=\"dataframe\">\n",
       "  <thead>\n",
       "    <tr style=\"text-align: right;\">\n",
       "      <th></th>\n",
       "      <th>ponto_id</th>\n",
       "      <th>rssi_1_1</th>\n",
       "      <th>rssi_1_2</th>\n",
       "      <th>rssi_1_3</th>\n",
       "      <th>rssi_2_1</th>\n",
       "      <th>rssi_2_2</th>\n",
       "      <th>rssi_2_3</th>\n",
       "      <th>rssi_3_1</th>\n",
       "      <th>rssi_3_2</th>\n",
       "      <th>rssi_3_3</th>\n",
       "      <th>delay_1</th>\n",
       "      <th>delay_2</th>\n",
       "      <th>delay_3</th>\n",
       "    </tr>\n",
       "  </thead>\n",
       "  <tbody>\n",
       "    <tr>\n",
       "      <th>0</th>\n",
       "      <td>2790</td>\n",
       "      <td>-115.000000</td>\n",
       "      <td>-115.000000</td>\n",
       "      <td>-115.000000</td>\n",
       "      <td>-115.000000</td>\n",
       "      <td>-96.3300</td>\n",
       "      <td>-93.483333</td>\n",
       "      <td>-81.330000</td>\n",
       "      <td>-78.261429</td>\n",
       "      <td>-115.0000</td>\n",
       "      <td>5.0</td>\n",
       "      <td>3.0</td>\n",
       "      <td>3.0</td>\n",
       "    </tr>\n",
       "    <tr>\n",
       "      <th>1</th>\n",
       "      <td>2040</td>\n",
       "      <td>-98.748000</td>\n",
       "      <td>-106.790000</td>\n",
       "      <td>-98.610000</td>\n",
       "      <td>-95.850000</td>\n",
       "      <td>-89.5350</td>\n",
       "      <td>-90.820000</td>\n",
       "      <td>-100.030000</td>\n",
       "      <td>-95.910000</td>\n",
       "      <td>-115.0000</td>\n",
       "      <td>5.0</td>\n",
       "      <td>3.0</td>\n",
       "      <td>3.0</td>\n",
       "    </tr>\n",
       "    <tr>\n",
       "      <th>2</th>\n",
       "      <td>7849</td>\n",
       "      <td>-87.780000</td>\n",
       "      <td>-88.187143</td>\n",
       "      <td>-89.045714</td>\n",
       "      <td>-68.460000</td>\n",
       "      <td>-77.7425</td>\n",
       "      <td>-82.314286</td>\n",
       "      <td>-90.561667</td>\n",
       "      <td>-95.522000</td>\n",
       "      <td>-97.2550</td>\n",
       "      <td>4.0</td>\n",
       "      <td>1.0</td>\n",
       "      <td>4.0</td>\n",
       "    </tr>\n",
       "    <tr>\n",
       "      <th>3</th>\n",
       "      <td>7550</td>\n",
       "      <td>-90.200000</td>\n",
       "      <td>-91.490714</td>\n",
       "      <td>-89.657143</td>\n",
       "      <td>-88.340000</td>\n",
       "      <td>-84.5900</td>\n",
       "      <td>-88.530000</td>\n",
       "      <td>-89.018333</td>\n",
       "      <td>-88.816000</td>\n",
       "      <td>-96.3725</td>\n",
       "      <td>5.0</td>\n",
       "      <td>2.0</td>\n",
       "      <td>3.0</td>\n",
       "    </tr>\n",
       "    <tr>\n",
       "      <th>4</th>\n",
       "      <td>7105</td>\n",
       "      <td>-94.691429</td>\n",
       "      <td>-97.387143</td>\n",
       "      <td>-93.710000</td>\n",
       "      <td>-97.646667</td>\n",
       "      <td>-88.2125</td>\n",
       "      <td>-91.640000</td>\n",
       "      <td>-93.620000</td>\n",
       "      <td>-63.396000</td>\n",
       "      <td>-92.4700</td>\n",
       "      <td>5.0</td>\n",
       "      <td>5.0</td>\n",
       "      <td>1.0</td>\n",
       "    </tr>\n",
       "  </tbody>\n",
       "</table>\n",
       "</div>"
      ],
      "text/plain": [
       "   ponto_id    rssi_1_1    rssi_1_2    rssi_1_3    rssi_2_1  rssi_2_2  \\\n",
       "0      2790 -115.000000 -115.000000 -115.000000 -115.000000  -96.3300   \n",
       "1      2040  -98.748000 -106.790000  -98.610000  -95.850000  -89.5350   \n",
       "2      7849  -87.780000  -88.187143  -89.045714  -68.460000  -77.7425   \n",
       "3      7550  -90.200000  -91.490714  -89.657143  -88.340000  -84.5900   \n",
       "4      7105  -94.691429  -97.387143  -93.710000  -97.646667  -88.2125   \n",
       "\n",
       "    rssi_2_3    rssi_3_1   rssi_3_2  rssi_3_3  delay_1  delay_2  delay_3  \n",
       "0 -93.483333  -81.330000 -78.261429 -115.0000      5.0      3.0      3.0  \n",
       "1 -90.820000 -100.030000 -95.910000 -115.0000      5.0      3.0      3.0  \n",
       "2 -82.314286  -90.561667 -95.522000  -97.2550      4.0      1.0      4.0  \n",
       "3 -88.530000  -89.018333 -88.816000  -96.3725      5.0      2.0      3.0  \n",
       "4 -91.640000  -93.620000 -63.396000  -92.4700      5.0      5.0      1.0  "
      ]
     },
     "execution_count": 10,
     "metadata": {},
     "output_type": "execute_result"
    }
   ],
   "source": [
    "X_test_reset = X_test.reset_index(drop=True)\n",
    "X_test_reset.head()"
   ]
  },
  {
   "cell_type": "code",
   "execution_count": 11,
   "metadata": {},
   "outputs": [],
   "source": [
    "import folium\n",
    "\n",
    "mean_lat = (max(y_train['lat'].values.astype(float)) + min(y_train['lat'].values.astype(float))) / 2\n",
    "mean_lon = (max(y_train['lon'].values.astype(float)) + min(y_train['lon'].values.astype(float))) / 2\n",
    "m = folium.Map(location=[mean_lat, mean_lon], zoom_start=15)\n",
    "\n",
    "for id in range(len(lat_pred)):\n",
    "    folium.Marker([lat_true[id], lon_true[id]], icon=folium.Icon(color='green'), popup=f\"ID: {X_test_reset.loc[id,'ponto_id']} Lat: {float(lat_true[id])} Lon: {float(lon_true[id])}\").add_to(m)\n",
    "    folium.Marker([lat_pred[id], lon_pred[id]], icon=folium.Icon(color='orange'), popup=f\"ID: {X_test_reset.loc[id,'ponto_id']} Lat: {float(lat_pred[id])} Lon: {float(lon_pred[id])}\").add_to(m)\n",
    "    folium.PolyLine(locations=[[lat_pred[id],lon_pred[id]], [lat_true[id], lon_true[id]]], color='blue').add_to(m)\n",
    "\n",
    "m.save('rf_bianca.html')"
   ]
  },
  {
   "cell_type": "markdown",
   "metadata": {},
   "source": [
    "#### Histograma"
   ]
  },
  {
   "cell_type": "code",
   "execution_count": 12,
   "metadata": {},
   "outputs": [
    {
     "data": {
      "image/png": "[encoded data removed]",
      "text/plain": [
       "<Figure size 720x432 with 1 Axes>"
      ]
     },
     "metadata": {
      "needs_background": "light"
     },
     "output_type": "display_data"
    }
   ],
   "source": [
    "import numpy as np\n",
    "import matplotlib.pyplot as plt\n",
    "\n",
    "def haversine(lat1, lon1, lat2, lon2):\n",
    "    R = 6371000  # Raio da Terra em metros\n",
    "    phi1 = np.radians(lat1)\n",
    "    phi2 = np.radians(lat2)\n",
    "    delta_phi = np.radians(lat2 - lat1)\n",
    "    delta_lambda = np.radians(lon2 - lon1)\n",
    "    a = np.sin(delta_phi/2)**2 + np.cos(phi1) * np.cos(phi2) * np.sin(delta_lambda/2)**2\n",
    "    c = 2 * np.arctan2(np.sqrt(a), np.sqrt(1-a))\n",
    "    distance = R * c\n",
    "    return distance\n",
    "\n",
    "# Usando Haversine para calcular erros em metros e não em graus\n",
    "erros = [haversine(lat_true[i], lon_true[i], lat_pred[i], lon_pred[i]) for i in range(len(lat_true))]\n",
    "\n",
    "# Plotando o histograma dos erros\n",
    "plt.figure(figsize=(10, 6))\n",
    "plt.hist(erros, bins=20, color='skyblue', alpha=0.7)\n",
    "plt.title('Histograma do Erro de Distância (em metros)')\n",
    "plt.xlabel('Erro (m)')\n",
    "plt.ylabel('Frequência')\n",
    "plt.show()\n"
   ]
  },
  {
   "cell_type": "markdown",
   "metadata": {},
   "source": [
    "#### Boxplot"
   ]
  },
  {
   "cell_type": "code",
   "execution_count": 13,
   "metadata": {},
   "outputs": [
    {
     "data": {
      "image/png": "[encoded data removed]",
      "text/plain": [
       "<Figure size 576x432 with 1 Axes>"
      ]
     },
     "metadata": {
      "needs_background": "light"
     },
     "output_type": "display_data"
    }
   ],
   "source": [
    "import matplotlib.pyplot as plt\n",
    "import numpy as np\n",
    "\n",
    "# Usando Haversine para calcular erros em metros e não em graus\n",
    "erros = [haversine(lat_true[i], lon_true[i], lat_pred[i], lon_pred[i]) for i in range(len(lat_true))]\n",
    "\n",
    "# Plotando o boxplot dos erros\n",
    "plt.figure(figsize=(8, 6))\n",
    "plt.boxplot(erros, vert=True, patch_artist=True, showmeans=True)\n",
    "plt.title('Boxplot do Erro de Distância')\n",
    "plt.ylabel('Erro (m)')\n",
    "plt.xticks([1], ['Erro de Distância'])\n",
    "plt.grid(True)\n",
    "plt.show()\n"
   ]
  },
  {
   "cell_type": "markdown",
   "metadata": {},
   "source": [
    "#### Estatísticas Básicas"
   ]
  },
  {
   "cell_type": "code",
   "execution_count": 14,
   "metadata": {},
   "outputs": [
    {
     "name": "stdout",
     "output_type": "stream",
     "text": [
      "Média do Erro: 74.83 metros\n",
      "Mediana do Erro: 66.68 metros\n",
      "Desvio Padrão do Erro: 47.48 metros\n",
      "Mínimo Erro: 2.25 metros\n",
      "Máximo Erro: 357.71 metros\n"
     ]
    }
   ],
   "source": [
    "import numpy as np\n",
    "\n",
    "# Calculando estatísticas básicas dos erros\n",
    "media_erro = np.mean(erros)\n",
    "mediana_erro = np.median(erros)\n",
    "desvio_padrao_erro = np.std(erros)\n",
    "min_erro = np.min(erros)\n",
    "max_erro = np.max(erros)\n",
    "q1_erro = np.percentile(erros, 25)\n",
    "q3_erro = np.percentile(erros, 75)\n",
    "\n",
    "# Exibindo as estatísticas\n",
    "print(f\"Média do Erro: {media_erro:.2f} metros\")\n",
    "print(f\"Mediana do Erro: {mediana_erro:.2f} metros\")\n",
    "print(f\"Desvio Padrão do Erro: {desvio_padrao_erro:.2f} metros\")\n",
    "print(f\"Mínimo Erro: {min_erro:.2f} metros\")\n",
    "print(f\"Máximo Erro: {max_erro:.2f} metros\")"
   ]
  },
  {
   "cell_type": "markdown",
   "metadata": {},
   "source": [
    "### Resultado"
   ]
  },
  {
   "cell_type": "code",
   "execution_count": 15,
   "metadata": {},
   "outputs": [
    {
     "data": {
      "text/html": [
       "<div>\n",
       "<style scoped>\n",
       "    .dataframe tbody tr th:only-of-type {\n",
       "        vertical-align: middle;\n",
       "    }\n",
       "\n",
       "    .dataframe tbody tr th {\n",
       "        vertical-align: top;\n",
       "    }\n",
       "\n",
       "    .dataframe thead th {\n",
       "        text-align: right;\n",
       "    }\n",
       "</style>\n",
       "<table border=\"1\" class=\"dataframe\">\n",
       "  <thead>\n",
       "    <tr style=\"text-align: right;\">\n",
       "      <th></th>\n",
       "      <th>ponto_id</th>\n",
       "      <th>rssi_1_1</th>\n",
       "      <th>rssi_1_2</th>\n",
       "      <th>rssi_1_3</th>\n",
       "      <th>rssi_2_1</th>\n",
       "      <th>rssi_2_2</th>\n",
       "      <th>rssi_2_3</th>\n",
       "      <th>rssi_3_1</th>\n",
       "      <th>rssi_3_2</th>\n",
       "      <th>rssi_3_3</th>\n",
       "      <th>delay_1</th>\n",
       "      <th>delay_2</th>\n",
       "      <th>delay_3</th>\n",
       "    </tr>\n",
       "  </thead>\n",
       "  <tbody>\n",
       "    <tr>\n",
       "      <th>0</th>\n",
       "      <td>0</td>\n",
       "      <td>-115.0</td>\n",
       "      <td>-115.0</td>\n",
       "      <td>-115.0</td>\n",
       "      <td>-115.0</td>\n",
       "      <td>-115.0</td>\n",
       "      <td>-115.0</td>\n",
       "      <td>-90.93</td>\n",
       "      <td>-84.113333</td>\n",
       "      <td>-115.0</td>\n",
       "      <td>5.0</td>\n",
       "      <td>3.0</td>\n",
       "      <td>2.0</td>\n",
       "    </tr>\n",
       "    <tr>\n",
       "      <th>1</th>\n",
       "      <td>3</td>\n",
       "      <td>-115.0</td>\n",
       "      <td>-115.0</td>\n",
       "      <td>-115.0</td>\n",
       "      <td>-115.0</td>\n",
       "      <td>-115.0</td>\n",
       "      <td>-115.0</td>\n",
       "      <td>-90.93</td>\n",
       "      <td>-84.113333</td>\n",
       "      <td>-115.0</td>\n",
       "      <td>5.0</td>\n",
       "      <td>3.0</td>\n",
       "      <td>2.0</td>\n",
       "    </tr>\n",
       "    <tr>\n",
       "      <th>2</th>\n",
       "      <td>8</td>\n",
       "      <td>-115.0</td>\n",
       "      <td>-115.0</td>\n",
       "      <td>-115.0</td>\n",
       "      <td>-115.0</td>\n",
       "      <td>-115.0</td>\n",
       "      <td>-115.0</td>\n",
       "      <td>-90.93</td>\n",
       "      <td>-86.090000</td>\n",
       "      <td>-115.0</td>\n",
       "      <td>5.0</td>\n",
       "      <td>3.0</td>\n",
       "      <td>2.0</td>\n",
       "    </tr>\n",
       "    <tr>\n",
       "      <th>3</th>\n",
       "      <td>10</td>\n",
       "      <td>-115.0</td>\n",
       "      <td>-115.0</td>\n",
       "      <td>-115.0</td>\n",
       "      <td>-115.0</td>\n",
       "      <td>-115.0</td>\n",
       "      <td>-115.0</td>\n",
       "      <td>-90.93</td>\n",
       "      <td>-84.113333</td>\n",
       "      <td>-115.0</td>\n",
       "      <td>5.0</td>\n",
       "      <td>3.0</td>\n",
       "      <td>2.0</td>\n",
       "    </tr>\n",
       "    <tr>\n",
       "      <th>4</th>\n",
       "      <td>12</td>\n",
       "      <td>-115.0</td>\n",
       "      <td>-115.0</td>\n",
       "      <td>-115.0</td>\n",
       "      <td>-115.0</td>\n",
       "      <td>-115.0</td>\n",
       "      <td>-115.0</td>\n",
       "      <td>-90.93</td>\n",
       "      <td>-84.113333</td>\n",
       "      <td>-115.0</td>\n",
       "      <td>5.0</td>\n",
       "      <td>3.0</td>\n",
       "      <td>2.0</td>\n",
       "    </tr>\n",
       "  </tbody>\n",
       "</table>\n",
       "</div>"
      ],
      "text/plain": [
       "   ponto_id  rssi_1_1  rssi_1_2  rssi_1_3  rssi_2_1  rssi_2_2  rssi_2_3  \\\n",
       "0         0    -115.0    -115.0    -115.0    -115.0    -115.0    -115.0   \n",
       "1         3    -115.0    -115.0    -115.0    -115.0    -115.0    -115.0   \n",
       "2         8    -115.0    -115.0    -115.0    -115.0    -115.0    -115.0   \n",
       "3        10    -115.0    -115.0    -115.0    -115.0    -115.0    -115.0   \n",
       "4        12    -115.0    -115.0    -115.0    -115.0    -115.0    -115.0   \n",
       "\n",
       "   rssi_3_1   rssi_3_2  rssi_3_3  delay_1  delay_2  delay_3  \n",
       "0    -90.93 -84.113333    -115.0      5.0      3.0      2.0  \n",
       "1    -90.93 -84.113333    -115.0      5.0      3.0      2.0  \n",
       "2    -90.93 -86.090000    -115.0      5.0      3.0      2.0  \n",
       "3    -90.93 -84.113333    -115.0      5.0      3.0      2.0  \n",
       "4    -90.93 -84.113333    -115.0      5.0      3.0      2.0  "
      ]
     },
     "execution_count": 15,
     "metadata": {},
     "output_type": "execute_result"
    }
   ],
   "source": [
    "df_test = pd.read_csv(TEST_DATASET_PATH)\n",
    "df_test.head()"
   ]
  },
  {
   "cell_type": "code",
   "execution_count": 16,
   "metadata": {},
   "outputs": [],
   "source": [
    "# # Inicializando listas para previsões e valores verdadeiros\n",
    "lat_pred = []\n",
    "lon_pred = []\n",
    "ponto_id = []\n",
    "\n",
    "for index, row in df_test.iterrows():\n",
    "    rssi_values = [row[f'rssi_{i}_2'] for i in range(1, 4)]  \n",
    "    delay_values = [row['delay_1'], row['delay_2'], row['delay_3']]  \n",
    "\n",
    "    pred = prev_loc(rssi_values, delay_values, models, bts_coords) \n",
    "\n",
    "    ponto_id.append(row[\"ponto_id\"])\n",
    "    lat_pred.append(pred[0])\n",
    "    lon_pred.append(pred[1])"
   ]
  },
  {
   "cell_type": "code",
   "execution_count": 14,
   "metadata": {},
   "outputs": [],
   "source": [
    "pd.DataFrame.from_dict(\n",
    "    {\n",
    "        \"ponto_id\": ponto_id,\n",
    "        \"lat_pred\": lat_pred,\n",
    "        \"lon_pred\": lon_pred\n",
    "    }\n",
    ").to_csv(\"../datasets/Resultados_Equipe2_RF.csv\", index=False)"
   ]
  }
 ],
 "metadata": {
  "kernelspec": {
   "display_name": "Python 3.11.5 64-bit",
   "language": "python",
   "name": "python3"
  },
  "language_info": {
   "codemirror_mode": {
    "name": "ipython",
    "version": 3
   },
   "file_extension": ".py",
   "mimetype": "text/x-python",
   "name": "python",
   "nbconvert_exporter": "python",
   "pygments_lexer": "ipython3",
   "version": "3.10.0"
  },
  "orig_nbformat": 4,
  "vscode": {
   "interpreter": {
    "hash": "b0fa6594d8f4cbf19f97940f81e996739fb7646882a419484c72d19e05852a7e"
   }
  }
 },
 "nbformat": 4,
 "nbformat_minor": 2
}
